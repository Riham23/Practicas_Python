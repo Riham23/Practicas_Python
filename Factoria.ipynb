{
 "cells": [
  {
   "cell_type": "markdown",
   "metadata": {},
   "source": []
  },
  {
   "cell_type": "markdown",
   "metadata": {},
   "source": [
    "1) Introducir un nombre y edad e imprimi en pantalla segun las diferentes alternativas de impresion en pantalla"
   ]
  },
  {
   "cell_type": "code",
   "execution_count": 18,
   "metadata": {},
   "outputs": [
    {
     "name": "stdout",
     "output_type": "stream",
     "text": [
      "Hola me llamo Lucía y tengo 23 años\n",
      "Hola me llamo Lucía y tengo 23 años\n",
      "Hola me llamo Lucía y tengo 23 años\n",
      "Hola me llamo Lucía y tengo 23 años\n",
      "Hola me llamo Lucía y tengo 23 años \n"
     ]
    }
   ],
   "source": [
    "name=\"Lucía\"\n",
    "edad= 23\n",
    "\n",
    "print(f\"Hola me llamo {name} y tengo {edad} años\")\n",
    "print(\"Hola me llamo %s y tengo %i años\"%(name,edad))\n",
    "print(\"Hola me llamo {0} y tengo {1} años\".format(name,edad))\n",
    "\n",
    "print(\"Hola me llamo\" , name, \"y tengo\", edad, \"años\")\n",
    "print(\"Hola me llamo \" + name+ \" y tengo \"+ str(edad)+\" años \")\n",
    "\n",
    "\n",
    "\n",
    "\n"
   ]
  },
  {
   "cell_type": "markdown",
   "metadata": {},
   "source": [
    "Crear una frase :  1) mayuscula 2) minuscula 3) Capitalizar primera titulos 4) Capitalizar  todos los titulos 5) contar alguna vocal 6) buscar posicion de una letra"
   ]
  },
  {
   "cell_type": "code",
   "execution_count": 27,
   "metadata": {},
   "outputs": [
    {
     "name": "stdout",
     "output_type": "stream",
     "text": [
      "ESTAMOS PROGRAMANDO EN PYTHON\n",
      "estamos programando en python\n",
      "Estamos programando en python\n",
      "Estamos Programando En Python\n",
      "4\n",
      "2\n"
     ]
    }
   ],
   "source": [
    "frase= \"estamos programando en python\"\n",
    "\n",
    "print(frase.upper())\n",
    "print(frase.lower())\n",
    "print(frase.capitalize())\n",
    "print(frase.title())\n",
    "\n",
    "print(frase.find(\"m\"))\n",
    "print(frase.count(\"m\"))\n",
    "\n"
   ]
  },
  {
   "cell_type": "markdown",
   "metadata": {},
   "source": [
    "Escribir un programa que imprima numeros pares entre el 0 y 200 de forma decreciente \n",
    "1) Secuencial donde considera solo lospares \n",
    "2) De dos en dos "
   ]
  },
  {
   "cell_type": "code",
   "execution_count": null,
   "metadata": {},
   "outputs": [],
   "source": [
    "print(\"Vamos a imprimir numeros del 200 al 0 de forma decreciente \")\n",
    "for pares in range(200,-1,-1):\n",
    "    if pares%2==0 and pares>0:\n",
    "        print(pares)\n",
    "\n"
   ]
  },
  {
   "cell_type": "markdown",
   "metadata": {},
   "source": [
    "Escribir un programa que imprima numeros entre 200 y 0  de 3 en 3 "
   ]
  },
  {
   "cell_type": "code",
   "execution_count": null,
   "metadata": {},
   "outputs": [],
   "source": [
    "for numeros in range (200,-1,-3):\n",
    "    if numeros%2==0 and numeros >0:\n",
    "      print(numeros)"
   ]
  },
  {
   "cell_type": "markdown",
   "metadata": {},
   "source": [
    "crear una historia aleatoria a partir de palabras introducidas por nostr@s"
   ]
  },
  {
   "cell_type": "code",
   "execution_count": 46,
   "metadata": {},
   "outputs": [
    {
     "name": "stdout",
     "output_type": "stream",
     "text": [
      "El Lucía estuvo muy  feliz mientras  saltó en el supermercado\n"
     ]
    }
   ],
   "source": [
    "import random\n",
    "\n",
    "def historia():\n",
    "\n",
    "  nombres= [\"perro\", \"Pedro\",\"loro\",\"bolígrafo\",\"mesa\",\"Lucía\"]\n",
    "  adjetivos=[\"feliz\",\"amargado\",\"estupendo\",\"tranquilo\",\"contento\",\"superguay\"]\n",
    "  verbos=[\"comió\",\"planchó\",\"inventó\",\"saltó\",\"durmió\",\"corrió\"]\n",
    "\n",
    "  nombre=random.choice(nombres)\n",
    "  adjetivo=random.choice(adjetivos)\n",
    "  verbo=random.choice(verbos)\n",
    "\n",
    "  historia=f\"El {nombre} estuvo muy  {adjetivo} mientras  {verbo} en el supermercado\"\n",
    "\n",
    "  print(historia)\n",
    "\n",
    "historia()  \n",
    "\n",
    "\n"
   ]
  },
  {
   "cell_type": "markdown",
   "metadata": {},
   "source": [
    "Crear una seria de tareas de la vida cotidiana en una lista y detenerla en la condicion numérica elegida, ojo con los resultados \n"
   ]
  },
  {
   "cell_type": "code",
   "execution_count": 50,
   "metadata": {},
   "outputs": [
    {
     "name": "stdout",
     "output_type": "stream",
     "text": [
      "Tarea0:plachar\n",
      "Tarea1:limpiar\n",
      "Tarea2:cocinar\n",
      "Tarea3:dormir\n",
      "Tarea4:salir\n",
      "Ya te basta por hoy, vete a salir y pasa de todo \n"
     ]
    }
   ],
   "source": [
    "tareas=[\"plachar\",\"limpiar\",\"cocinar\",\"dormir\",\"salir\",\"certificarse en el practitionar\"]\n",
    "\n",
    "for num,accion in enumerate(tareas):\n",
    "    if num==5:\n",
    "        print(\"Ya te basta por hoy, vete a salir y pasa de todo \")\n",
    "        break\n",
    "    print(f\"Tarea{num}:{accion}\")    \n",
    "\n",
    "\n"
   ]
  },
  {
   "cell_type": "markdown",
   "metadata": {},
   "source": [
    "SIMULACION DE UN CARRO DE COMPRAS : crear un diccionario para almacenar productos y sus precios y calcular el total al finalizar la compra"
   ]
  },
  {
   "cell_type": "code",
   "execution_count": 55,
   "metadata": {},
   "outputs": [
    {
     "name": "stdout",
     "output_type": "stream",
     "text": [
      "prodcuto no encontrado\n",
      "2 banana(s): $1.60\n",
      "Total: $1.60\n",
      "4 naranja(s): $4.80\n",
      "Total: $6.40\n",
      "7 manzana(s): $10.50\n",
      "Total: $16.90\n"
     ]
    }
   ],
   "source": [
    "productos = {\"manzana\": 1.5, \"banana\": 0.8, \"naranja\": 1.2}\n",
    "carrito = {}\n",
    "\n",
    "while True:\n",
    "    producto = input(\"Ingrese el producto (o 'finalizar'): \")\n",
    "\n",
    "    if producto.lower() == 'finalizar':\n",
    "      break\n",
    "\n",
    "    cantidad = int(input(\"Ingrese la cantidad: \"))\n",
    "\n",
    "    if producto in productos:\n",
    "        carrito[producto] = carrito.get(producto, 0) + cantidad\n",
    "\n",
    "    else:\n",
    "       print(\"prodcuto no encontrado\")  \n",
    "       \n",
    "\n",
    "\n",
    "total = 0\n",
    "for producto, cantidad in carrito.items():\n",
    "    precio = productos[producto]\n",
    "    total += precio * cantidad\n",
    "\n",
    "\n",
    "    print(f\"{cantidad} {producto}(s): ${precio * cantidad:.2f}\")\n",
    "    print(f\"Total: ${total:.2f}\")\n",
    "\n",
    "\n",
    "\n",
    "\n",
    "\n",
    "\n",
    "\n",
    "\n",
    "\n",
    "\n",
    "\n",
    "\n",
    "\n",
    "\n",
    "\n",
    "\n",
    "\n"
   ]
  },
  {
   "cell_type": "markdown",
   "metadata": {},
   "source": [
    "Simulación de un cajero automático: Crea un programa que simule un cajero automático. El usuario ingresa su saldo inicial y luego puede realizar retiros y depósitos. Utiliza un bucle while para mostrar un menú de opciones y permitir al usuario realizar múltiples transacciones."
   ]
  },
  {
   "cell_type": "code",
   "execution_count": 54,
   "metadata": {},
   "outputs": [
    {
     "name": "stdout",
     "output_type": "stream",
     "text": [
      "No tienes suficiente saldo\n",
      "Has retirado 50.0 y te queda $ 50.0\n",
      "Has retirado 6.0 y te queda $ 44.0\n",
      "Opción no correcta \n",
      "Gracias por tu gestión!\n"
     ]
    }
   ],
   "source": [
    "\n",
    "saldo= float(input(\"Ingresa tu saldo actual en $\"))\n",
    "\n",
    "\n",
    "while True:\n",
    "\n",
    "    # print(\"Elige la opción que necesitas:\")\n",
    "    # print(\"1.Retirar dinero\")\n",
    "    # print(\"2. Depositar dinero\")\n",
    "    # print(\"3. Ver saldo actual\")\n",
    "    # print(\"4. salir\")\n",
    "\n",
    "    opcion=input(\"Elige una de las opciones anteriors\")\n",
    "\n",
    "    if opcion==\"1\":\n",
    "\n",
    "        retiro=float(input(\"Indica la cantidad a retirar\"))\n",
    "        if retiro<saldo:\n",
    "            saldo -=retiro # saldo=saldo-retiro\n",
    "            print(f\"Has retirado {retiro} y te queda $ {saldo}\")\n",
    "        \n",
    "        else:\n",
    "            print(\"No tienes suficiente saldo\")    \n",
    "\n",
    "\n",
    "\n",
    "    elif opcion==\"2\":\n",
    "\n",
    "        deposito=float(input(\"Indica la cantidad a depositar\"))\n",
    "        saldo+=deposito #saldo=saldo+deposito\n",
    "        print(f\"Has depositado {deposito} y te queda $ {saldo}\")\n",
    "       \n",
    "        \n",
    "\n",
    "    elif opcion==\"3\":    \n",
    "\n",
    "        print(f\"su saldo actual es de ${saldo}\")\n",
    "    \n",
    "\n",
    "\n",
    "    elif opcion==\"4\":\n",
    "\n",
    "        print(\"Gracias por tu gestión!\")\n",
    "        break\n",
    "\n",
    "\n",
    "\n",
    "    else:\n",
    "\n",
    "        print(\"Opción no correcta \")   \n",
    "\n",
    "\n",
    "\n",
    "\n",
    "\n",
    "\n",
    "\n"
   ]
  }
 ],
 "metadata": {
  "kernelspec": {
   "display_name": "Python 3",
   "language": "python",
   "name": "python3"
  },
  "language_info": {
   "codemirror_mode": {
    "name": "ipython",
    "version": 3
   },
   "file_extension": ".py",
   "mimetype": "text/x-python",
   "name": "python",
   "nbconvert_exporter": "python",
   "pygments_lexer": "ipython3",
   "version": "3.13.0"
  }
 },
 "nbformat": 4,
 "nbformat_minor": 2
}

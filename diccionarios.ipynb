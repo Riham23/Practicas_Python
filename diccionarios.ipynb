{
 "cells": [
  {
   "cell_type": "markdown",
   "metadata": {},
   "source": [
    " Un diccionario es una estructura de datos en Python que almacena pares de clave-valor. Cada clave es única y se utiliza para acceder a su valor asociado. Los diccionarios son muy útiles para organizar y manipular datos estructurados.\n",
    "\n",
    "Características principales de los diccionarios:\n",
    "Claves únicas: Las claves no pueden repetirse, pero los valores sí.\n",
    "Mutables: Puedes añadir, modificar o eliminar pares clave-valor.\n",
    "No ordenados (hasta Python 3.6): Desde Python 3.7, los diccionarios conservan el orden de inserción de las claves."
   ]
  },
  {
   "cell_type": "code",
   "execution_count": 5,
   "metadata": {},
   "outputs": [
    {
     "name": "stdout",
     "output_type": "stream",
     "text": [
      "{'x': 25, 'y': 50}\n",
      "25\n",
      "50\n"
     ]
    }
   ],
   "source": [
    "punto={\"x\":25, \"y\":50}\n",
    "print(punto)\n",
    "print(punto[\"x\"])\n",
    "print(punto[\"y\"])\n"
   ]
  },
  {
   "cell_type": "markdown",
   "metadata": {},
   "source": [
    "Usa las claves para acceder a los valores."
   ]
  },
  {
   "cell_type": "code",
   "execution_count": 6,
   "metadata": {},
   "outputs": [
    {
     "name": "stdout",
     "output_type": "stream",
     "text": [
      "Riham\n",
      "30\n"
     ]
    }
   ],
   "source": [
    "mi_diccionario = {\"nombre\": \"Riham\", \"edad\": 30, \"ciudad\": \"Barcelona\"}\n",
    "print(mi_diccionario[\"nombre\"])  # Riham\n",
    "print(mi_diccionario.get(\"edad\"))  # 30"
   ]
  },
  {
   "cell_type": "code",
   "execution_count": 10,
   "metadata": {},
   "outputs": [
    {
     "name": "stdout",
     "output_type": "stream",
     "text": [
      "{'nombre': 'Riham', 'edad': 31, 'ciudad': 'Barcelona'}\n"
     ]
    }
   ],
   "source": [
    "#Modificar valores\n",
    "\n",
    "mi_diccionario[\"edad\"] = 31\n",
    "print(mi_diccionario)  # {'nombre': 'Riham', 'edad': 31, 'ciudad': 'Barcelona'}"
   ]
  },
  {
   "cell_type": "code",
   "execution_count": 11,
   "metadata": {},
   "outputs": [
    {
     "name": "stdout",
     "output_type": "stream",
     "text": [
      "{'nombre': 'Riham', 'edad': 31, 'ciudad': 'Barcelona', 'profesión': 'Data Scientist'}\n"
     ]
    }
   ],
   "source": [
    "mi_diccionario[\"profesión\"] = \"Data Scientist\"\n",
    "print(mi_diccionario)  # {'nombre': 'Riham', 'edad': 31, 'ciudad': 'Barcelona', 'profesión': 'Data Scientist'}"
   ]
  },
  {
   "cell_type": "markdown",
   "metadata": {},
   "source": [
    "mi_diccionario[\"profesión\"] = \"Data Scientist\"\n",
    "print(mi_diccionario)  # {'nombre': 'Riham', 'edad': 31, 'ciudad': 'Barcelona', 'profesión': 'Data Scientist'}"
   ]
  },
  {
   "cell_type": "code",
   "execution_count": 12,
   "metadata": {},
   "outputs": [
    {
     "name": "stdout",
     "output_type": "stream",
     "text": [
      "{'nombre': 'Riham', 'edad': 31, 'profesión': 'Data Scientist'}\n",
      "{}\n"
     ]
    }
   ],
   "source": [
    "# Eliminar un elemento\n",
    "mi_diccionario.pop(\"ciudad\")\n",
    "print(mi_diccionario)  # {'nombre': 'Riham', 'edad': 31, 'profesión': 'Data Scientist'}\n",
    "\n",
    "# Vaciar el diccionario\n",
    "mi_diccionario.clear()\n",
    "print(mi_diccionario)  # {}"
   ]
  },
  {
   "cell_type": "code",
   "execution_count": 13,
   "metadata": {},
   "outputs": [
    {
     "name": "stdout",
     "output_type": "stream",
     "text": [
      "True\n",
      "False\n"
     ]
    }
   ],
   "source": [
    "mi_diccionario = {\"nombre\": \"Riham\", \"edad\": 30}\n",
    "print(\"nombre\" in mi_diccionario)  # True\n",
    "print(\"ciudad\" in mi_diccionario)  # False"
   ]
  },
  {
   "cell_type": "markdown",
   "metadata": {},
   "source": [
    "Iterar sobre un diccionario"
   ]
  },
  {
   "cell_type": "code",
   "execution_count": 14,
   "metadata": {},
   "outputs": [
    {
     "name": "stdout",
     "output_type": "stream",
     "text": [
      "nombre\n",
      "edad\n"
     ]
    }
   ],
   "source": [
    "\n",
    "#Claves\n",
    "for clave in mi_diccionario:\n",
    "    print(clave)"
   ]
  },
  {
   "cell_type": "code",
   "execution_count": 15,
   "metadata": {},
   "outputs": [
    {
     "name": "stdout",
     "output_type": "stream",
     "text": [
      "Riham\n",
      "30\n"
     ]
    }
   ],
   "source": [
    "#Valores\n",
    "for valor in mi_diccionario.values():\n",
    "    print(valor)"
   ]
  },
  {
   "cell_type": "code",
   "execution_count": 16,
   "metadata": {},
   "outputs": [
    {
     "name": "stdout",
     "output_type": "stream",
     "text": [
      "nombre: Riham\n",
      "edad: 30\n"
     ]
    }
   ],
   "source": [
    "#Claves y valores:\n",
    "for clave, valor in mi_diccionario.items():\n",
    "    print(f\"{clave}: {valor}\")"
   ]
  },
  {
   "cell_type": "markdown",
   "metadata": {},
   "source": [
    "7. Métodos comunes\n",
    "keys(): Devuelve todas las claves.\n",
    "values(): Devuelve todos los valores.\n",
    "items(): Devuelve pares clave-valor como tuplas."
   ]
  },
  {
   "cell_type": "code",
   "execution_count": 18,
   "metadata": {},
   "outputs": [
    {
     "name": "stdout",
     "output_type": "stream",
     "text": [
      "dict_keys(['nombre', 'edad'])\n",
      "dict_values(['Riham', 30])\n",
      "dict_items([('nombre', 'Riham'), ('edad', 30)])\n"
     ]
    }
   ],
   "source": [
    "mi_diccionario = {\"nombre\": \"Riham\", \"edad\": 30}\n",
    "print(mi_diccionario.keys())  # dict_keys(['nombre', 'edad'])\n",
    "print(mi_diccionario.values())  # dict_values(['Riham', 30])\n",
    "print(mi_diccionario.items())  # dict_items([('nombre', 'Riham'), ('edad', 30)])"
   ]
  },
  {
   "cell_type": "code",
   "execution_count": 19,
   "metadata": {},
   "outputs": [
    {
     "name": "stdout",
     "output_type": "stream",
     "text": [
      "Riham\n",
      "Barcelona\n"
     ]
    }
   ],
   "source": [
    "persona = {\"nombre\": \"Riham\", \"edad\": 30, \"ciudad\": \"Barcelona\", \"profesión\": \"Data Scientist\"}\n",
    "print(persona[\"nombre\"])  # Riham\n",
    "print(persona[\"ciudad\"])  # Barcelona"
   ]
  },
  {
   "cell_type": "code",
   "execution_count": 20,
   "metadata": {},
   "outputs": [
    {
     "name": "stdout",
     "output_type": "stream",
     "text": [
      "{'nombre': 'Riham', 'edad': 31, 'ciudad': 'Barcelona', 'profesión': 'Data Scientist', 'idiomas': ['Español', 'Árabe', 'Inglés']}\n"
     ]
    }
   ],
   "source": [
    "persona[\"idiomas\"] = [\"Español\", \"Árabe\", \"Inglés\"]\n",
    "persona[\"edad\"] = 31\n",
    "print(persona)"
   ]
  },
  {
   "cell_type": "markdown",
   "metadata": {},
   "source": [
    "Dada una lista de palabras, crea un diccionario que cuente cuántas veces aparece cada palabra."
   ]
  },
  {
   "cell_type": "code",
   "execution_count": 22,
   "metadata": {},
   "outputs": [
    {
     "name": "stdout",
     "output_type": "stream",
     "text": [
      "{'python': 3, 'data': 2, 'machine': 1}\n"
     ]
    }
   ],
   "source": [
    "palabras = [\"python\", \"data\", \"python\", \"machine\", \"data\", \"python\"]\n",
    "frecuencia = {}\n",
    "\n",
    "for palabra in palabras:\n",
    "    if palabra in frecuencia:  #En cada iteración, se verifica si la palabra actual (palabra) ya existe como clave en el diccionario frecuencia\n",
    "        frecuencia[palabra] += 1#Si la palabra ya existe como clave, se incrementa su valor en 1. Esto significa que hemos encontrado otra aparición de esa palabra.\n",
    "    else:\n",
    "        frecuencia[palabra] = 1 #Si la palabra no existe como clave en el diccionario, se añade al diccionario con un valor inicial de 1, indicando que es la primera vez que aparece.\n",
    "\n",
    "print(frecuencia)  # {'python': 3, 'data': 2, 'machine': 1}"
   ]
  },
  {
   "cell_type": "code",
   "execution_count": 23,
   "metadata": {},
   "outputs": [
    {
     "name": "stdout",
     "output_type": "stream",
     "text": [
      "{'nombre': 'Riham', 'edad': 30, 'ciudad': 'Barcelona'}\n"
     ]
    }
   ],
   "source": [
    "#Dadas dos listas, una con claves y otra con valores, crea un diccionario combinándolas.\n",
    "\n",
    "claves = [\"nombre\", \"edad\", \"ciudad\"]\n",
    "valores = [\"Riham\", 30, \"Barcelona\"]\n",
    "\n",
    "diccionario = dict(zip(claves, valores))\n",
    "print(diccionario)  # {'nombre': 'Riham', 'edad': 30, 'ciudad': 'Barcelona'}\n"
   ]
  },
  {
   "cell_type": "markdown",
   "metadata": {},
   "source": [
    "Dado un diccionario de estudiantes con sus calificaciones, crea un nuevo diccionario con los estudiantes que tienen una calificación mayor a 5."
   ]
  },
  {
   "cell_type": "code",
   "execution_count": 24,
   "metadata": {},
   "outputs": [
    {
     "name": "stdout",
     "output_type": "stream",
     "text": [
      "{'Ana': 7, 'Luis': 6, 'Marta': 9}\n"
     ]
    }
   ],
   "source": [
    "estudiantes = {\"Ana\": 7, \"Juan\": 4, \"Luis\": 6, \"Marta\": 9}\n",
    "aprobados = {nombre: nota for nombre, nota in estudiantes.items() if nota > 5}\n",
    "print(aprobados)  # {'Ana': 7, 'Luis': 6, 'Marta': 9}"
   ]
  }
 ],
 "metadata": {
  "kernelspec": {
   "display_name": "Python 3",
   "language": "python",
   "name": "python3"
  },
  "language_info": {
   "codemirror_mode": {
    "name": "ipython",
    "version": 3
   },
   "file_extension": ".py",
   "mimetype": "text/x-python",
   "name": "python",
   "nbconvert_exporter": "python",
   "pygments_lexer": "ipython3",
   "version": "3.13.0"
  }
 },
 "nbformat": 4,
 "nbformat_minor": 2
}
